{
 "cells": [
  {
   "cell_type": "markdown",
   "metadata": {},
   "source": [
    "Profitable App Profiles for the App Store and Google Play Markets\n",
    "Our aim in this project is to find mobile app profiles that are profitable for the App Store and Google Play markets. We're working as data analysts for a company that builds Android and iOS mobile apps, and our job is to enable our team of developers to make data-driven decisions with respect to the kind of apps they build.\n",
    "\n",
    "At our company, we only build apps that are free to download and install, and our main source of revenue consists of in-app ads. This means that our revenue for any given app is mostly influenced by the number of users that use our app. Our goal for this project is to analyze data to help our developers understand what kinds of apps are likely to attract more users."
   ]
  },
  {
   "cell_type": "code",
   "execution_count": 1,
   "metadata": {},
   "outputs": [],
   "source": [
    "from csv import reader\n",
    "import csv\n",
    "\n",
    "# Loading Google play store data\n",
    "open_file = open(\"googleplaystore.csv\")\n",
    "read_file = reader(open_file)\n",
    "android = list(read_file)\n",
    "android_header = android[0]\n",
    "android = android[1:]\n",
    "\n",
    "# Loading Apple Store data\n",
    "open_file = open(\"AppleStore.csv\")\n",
    "read_file = reader(open_file)\n",
    "ios = list(read_file)\n",
    "ios_header = ios[0]\n",
    "ios = ios[1:]\n"
   ]
  },
  {
   "cell_type": "code",
   "execution_count": 2,
   "metadata": {},
   "outputs": [
    {
     "name": "stdout",
     "output_type": "stream",
     "text": [
      "['id', 'track_name', 'size_bytes', 'currency', 'price', 'rating_count_tot', 'rating_count_ver', 'user_rating', 'user_rating_ver', 'ver', 'cont_rating', 'prime_genre', 'sup_devices.num', 'ipadSc_urls.num', 'lang.num', 'vpp_lic']\n",
      "\n",
      "\n",
      "['284882215', 'Facebook', '389879808', 'USD', '0.0', '2974676', '212', '3.5', '3.5', '95.0', '4+', 'Social Networking', '37', '1', '29', '1']\n",
      "\n",
      "\n",
      "['389801252', 'Instagram', '113954816', 'USD', '0.0', '2161558', '1289', '4.5', '4.0', '10.23', '12+', 'Photo & Video', '37', '0', '29', '1']\n",
      "\n",
      "\n",
      "['529479190', 'Clash of Clans', '116476928', 'USD', '0.0', '2130805', '579', '4.5', '4.5', '9.24.12', '9+', 'Games', '38', '5', '18', '1']\n",
      "\n",
      "\n",
      "Number of rows: 7197\n",
      "Number of columns: 16\n"
     ]
    }
   ],
   "source": [
    "# Creating a function to print rows repeatedly\n",
    "def explore_data(dataset, start, end, rows_and_columns=False):\n",
    "    dataset_slice = dataset[start:end]    \n",
    "    for row in dataset_slice:\n",
    "        print(row)\n",
    "        print('\\n') # adds a new (empty) line after each row\n",
    "\n",
    "    if rows_and_columns:\n",
    "        print('Number of rows:', len(dataset))\n",
    "        print('Number of columns:', len(dataset[0]))\n",
    "\n",
    "print(ios_header)\n",
    "print('\\n')\n",
    "explore_data(ios, 0, 3, True)"
   ]
  },
  {
   "cell_type": "code",
   "execution_count": 3,
   "metadata": {},
   "outputs": [
    {
     "name": "stdout",
     "output_type": "stream",
     "text": [
      "['Life Made WI-Fi Touchscreen Photo Frame', '1.9', '19', '3.0M', '1,000+', 'Free', '0', 'Everyone', '', 'February 11, 2018', '1.0.19', '4.0 and up']\n",
      "\n",
      "\n",
      "['App', 'Category', 'Rating', 'Reviews', 'Size', 'Installs', 'Type', 'Price', 'Content Rating', 'Genres', 'Last Updated', 'Current Ver', 'Android Ver']\n"
     ]
    }
   ],
   "source": [
    "# Removing Incorrect data\n",
    "\n",
    "print(android[10472])\n",
    "print('\\n')\n",
    "print(android_header)"
   ]
  },
  {
   "cell_type": "code",
   "execution_count": 4,
   "metadata": {},
   "outputs": [
    {
     "name": "stdout",
     "output_type": "stream",
     "text": [
      "10841\n",
      "10840\n"
     ]
    }
   ],
   "source": [
    "print(len(android))\n",
    "del android[10472]\n",
    "print(len(android))"
   ]
  },
  {
   "cell_type": "code",
   "execution_count": 5,
   "metadata": {},
   "outputs": [
    {
     "name": "stdout",
     "output_type": "stream",
     "text": [
      "['Instagram', 'SOCIAL', '4.5', '66577313', 'Varies with device', '1,000,000,000+', 'Free', '0', 'Teen', 'Social', 'July 31, 2018', 'Varies with device', 'Varies with device']\n",
      "['Instagram', 'SOCIAL', '4.5', '66577446', 'Varies with device', '1,000,000,000+', 'Free', '0', 'Teen', 'Social', 'July 31, 2018', 'Varies with device', 'Varies with device']\n",
      "['Instagram', 'SOCIAL', '4.5', '66577313', 'Varies with device', '1,000,000,000+', 'Free', '0', 'Teen', 'Social', 'July 31, 2018', 'Varies with device', 'Varies with device']\n",
      "['Instagram', 'SOCIAL', '4.5', '66509917', 'Varies with device', '1,000,000,000+', 'Free', '0', 'Teen', 'Social', 'July 31, 2018', 'Varies with device', 'Varies with device']\n"
     ]
    }
   ],
   "source": [
    "#4.1 Printing duplicates\n",
    "\n",
    "for app in android:\n",
    "    name = app[0]\n",
    "    if name == 'Instagram':\n",
    "        print(app)"
   ]
  },
  {
   "cell_type": "code",
   "execution_count": 6,
   "metadata": {},
   "outputs": [
    {
     "name": "stdout",
     "output_type": "stream",
     "text": [
      "The total number of duplicate apps are:  1181\n",
      "\n",
      "\n",
      "['Quick PDF Scanner + OCR FREE', 'Box', 'Google My Business', 'ZOOM Cloud Meetings', 'join.me - Simple Meetings', 'Box', 'Zenefits', 'Google Ads', 'Google My Business', 'Slack']\n"
     ]
    }
   ],
   "source": [
    "# 4.2 Count the number of duplicates\n",
    "unique_apps = []\n",
    "duplicate_apps = []\n",
    "for app in android:\n",
    "    name = app[0]\n",
    "    if name in unique_apps:\n",
    "        duplicate_apps.append(name)\n",
    "    else:\n",
    "        unique_apps.append(name)\n",
    "\n",
    "print(\"The total number of duplicate apps are: \", len(duplicate_apps))\n",
    "print('\\n')\n",
    "print(duplicate_apps[:10])"
   ]
  },
  {
   "cell_type": "markdown",
   "metadata": {},
   "source": [
    "We don't want to count certain apps more than once when we analyze data, so we need to remove the duplicate entries and keep only one entry per app. One thing we could do is remove the duplicate rows randomly, but we could probably find a better way.\n",
    "\n",
    "If you examine the rows we printed for the Instagram app, the main difference happens on the fourth position of each row, which corresponds to the number of reviews. The different numbers show the data was collected at different times."
   ]
  },
  {
   "cell_type": "code",
   "execution_count": 7,
   "metadata": {},
   "outputs": [
    {
     "name": "stdout",
     "output_type": "stream",
     "text": [
      "['Instagram', 'SOCIAL', '4.5', '66577313', 'Varies with device', '1,000,000,000+', 'Free', '0', 'Teen', 'Social', 'July 31, 2018', 'Varies with device', 'Varies with device']\n",
      "['Instagram', 'SOCIAL', '4.5', '66577446', 'Varies with device', '1,000,000,000+', 'Free', '0', 'Teen', 'Social', 'July 31, 2018', 'Varies with device', 'Varies with device']\n",
      "['Instagram', 'SOCIAL', '4.5', '66577313', 'Varies with device', '1,000,000,000+', 'Free', '0', 'Teen', 'Social', 'July 31, 2018', 'Varies with device', 'Varies with device']\n",
      "['Instagram', 'SOCIAL', '4.5', '66509917', 'Varies with device', '1,000,000,000+', 'Free', '0', 'Teen', 'Social', 'July 31, 2018', 'Varies with device', 'Varies with device']\n"
     ]
    }
   ],
   "source": [
    "for app in android:\n",
    "    name = app[0]\n",
    "    if name == 'Instagram':\n",
    "        print(app)"
   ]
  },
  {
   "cell_type": "markdown",
   "metadata": {},
   "source": [
    "The higher the number of reviews, the more recent the data should be. Rather than removing duplicates randomly, we'll only keep the row with the highest number of reviews and remove the other entries for any given app."
   ]
  },
  {
   "cell_type": "code",
   "execution_count": 8,
   "metadata": {},
   "outputs": [],
   "source": [
    "# 5.1 Creating a dictionary\n",
    "\n",
    "reviews_max = {}\n",
    "for app in android:\n",
    "    name = app[0]\n",
    "    n_reviews = float(app[3])\n",
    "    \n",
    "    if name in reviews_max and reviews_max[name] < n_reviews:\n",
    "        reviews_max[name] = n_reviews\n",
    "    elif name not in reviews_max:\n",
    "        reviews_max[name] = n_reviews\n",
    "        "
   ]
  },
  {
   "cell_type": "code",
   "execution_count": 9,
   "metadata": {},
   "outputs": [
    {
     "name": "stdout",
     "output_type": "stream",
     "text": [
      "Expected :  9659\n",
      "Actual :  9659\n"
     ]
    }
   ],
   "source": [
    "# checking the number of entries in dictionary\n",
    "print(\"Expected : \", len(android)-1181)\n",
    "print(\"Actual : \", len(reviews_max))"
   ]
  },
  {
   "cell_type": "code",
   "execution_count": 10,
   "metadata": {},
   "outputs": [],
   "source": [
    "# 5.2 Removing duplicate rows\n",
    "\n",
    "android_clean = []\n",
    "already_added = []\n",
    "\n",
    "for app in android:\n",
    "    name = app[0]\n",
    "    n_reviews = float(app[3])\n",
    "    \n",
    "    if (reviews_max[name] == n_reviews) and (name not in already_added):\n",
    "        android_clean.append(app)\n",
    "        already_added.append(name) "
   ]
  },
  {
   "cell_type": "code",
   "execution_count": 11,
   "metadata": {},
   "outputs": [
    {
     "name": "stdout",
     "output_type": "stream",
     "text": [
      "['Photo Editor & Candy Camera & Grid & ScrapBook', 'ART_AND_DESIGN', '4.1', '159', '19M', '10,000+', 'Free', '0', 'Everyone', 'Art & Design', 'January 7, 2018', '1.0.0', '4.0.3 and up']\n",
      "\n",
      "\n",
      "['U Launcher Lite – FREE Live Cool Themes, Hide Apps', 'ART_AND_DESIGN', '4.7', '87510', '8.7M', '5,000,000+', 'Free', '0', 'Everyone', 'Art & Design', 'August 1, 2018', '1.2.4', '4.0.3 and up']\n",
      "\n",
      "\n",
      "['Sketch - Draw & Paint', 'ART_AND_DESIGN', '4.5', '215644', '25M', '50,000,000+', 'Free', '0', 'Teen', 'Art & Design', 'June 8, 2018', 'Varies with device', '4.2 and up']\n",
      "\n",
      "\n",
      "Number of rows: 9659\n",
      "Number of columns: 13\n"
     ]
    }
   ],
   "source": [
    "# 5.3 Exploring the new data set\n",
    "\n",
    "explore_data(android_clean, 0, 3, True)"
   ]
  },
  {
   "cell_type": "code",
   "execution_count": 12,
   "metadata": {},
   "outputs": [],
   "source": [
    "# 6.1 Function for checking english characters\n",
    "\n",
    "def english(name):\n",
    "    for char in name:\n",
    "        if ord(char) > 127:\n",
    "            return False\n",
    "        else:\n",
    "            return True\n"
   ]
  },
  {
   "cell_type": "code",
   "execution_count": 13,
   "metadata": {},
   "outputs": [
    {
     "name": "stdout",
     "output_type": "stream",
     "text": [
      "True\n",
      "False\n",
      "True\n",
      "True\n"
     ]
    }
   ],
   "source": [
    "# 6.2 Checking the output of the function\n",
    "\n",
    "print(english('Instagram'))\n",
    "print(english('爱奇艺PPS -《欢乐颂2》电视剧热播'))\n",
    "print(english('Docs To Go™ Free Office Suite'))\n",
    "print(english('Instachat 😜'))"
   ]
  },
  {
   "cell_type": "markdown",
   "metadata": {},
   "source": [
    "Removing Non-English Apps\n",
    "\n",
    "If you explore the data sets enough, you'll notice the names of some of the apps suggest they are not directed toward an English-speaking audience. Below, we see a couple of examples from both data sets:"
   ]
  },
  {
   "cell_type": "code",
   "execution_count": 14,
   "metadata": {},
   "outputs": [],
   "source": [
    "# 7.3 Filtering out non english apps from the datasets\n",
    "\n",
    "android_english_apps = []\n",
    "ios_english_apps = []\n",
    "\n",
    "# For Google Play Store\n",
    "\n",
    "for app in android_clean:\n",
    "    name = app[0]\n",
    "    if english(name):\n",
    "        android_english_apps.append(app)\n",
    "\n",
    "# For Apple Play Store\n",
    "\n",
    "for app in ios:\n",
    "    name = app[1]\n",
    "    if english(name):\n",
    "        ios_english_apps.append(app)\n",
    "\n",
    "        "
   ]
  },
  {
   "cell_type": "code",
   "execution_count": 15,
   "metadata": {},
   "outputs": [
    {
     "name": "stdout",
     "output_type": "stream",
     "text": [
      "['Photo Editor & Candy Camera & Grid & ScrapBook', 'ART_AND_DESIGN', '4.1', '159', '19M', '10,000+', 'Free', '0', 'Everyone', 'Art & Design', 'January 7, 2018', '1.0.0', '4.0.3 and up']\n",
      "\n",
      "\n",
      "['U Launcher Lite – FREE Live Cool Themes, Hide Apps', 'ART_AND_DESIGN', '4.7', '87510', '8.7M', '5,000,000+', 'Free', '0', 'Everyone', 'Art & Design', 'August 1, 2018', '1.2.4', '4.0.3 and up']\n",
      "\n",
      "\n",
      "['Sketch - Draw & Paint', 'ART_AND_DESIGN', '4.5', '215644', '25M', '50,000,000+', 'Free', '0', 'Teen', 'Art & Design', 'June 8, 2018', 'Varies with device', '4.2 and up']\n",
      "\n",
      "\n",
      "Number of rows: 9623\n",
      "Number of columns: 13\n",
      "\n",
      "\n",
      "['284882215', 'Facebook', '389879808', 'USD', '0.0', '2974676', '212', '3.5', '3.5', '95.0', '4+', 'Social Networking', '37', '1', '29', '1']\n",
      "\n",
      "\n",
      "['389801252', 'Instagram', '113954816', 'USD', '0.0', '2161558', '1289', '4.5', '4.0', '10.23', '12+', 'Photo & Video', '37', '0', '29', '1']\n",
      "\n",
      "\n",
      "['529479190', 'Clash of Clans', '116476928', 'USD', '0.0', '2130805', '579', '4.5', '4.5', '9.24.12', '9+', 'Games', '38', '5', '18', '1']\n",
      "\n",
      "\n",
      "Number of rows: 6273\n",
      "Number of columns: 16\n"
     ]
    }
   ],
   "source": [
    "# 7.4 Exploring the dataset\n",
    "\n",
    "explore_data(android_english_apps, 0, 3, True)\n",
    "print(\"\\n\")\n",
    "explore_data(ios_english_apps, 0, 3, True)\n"
   ]
  },
  {
   "cell_type": "code",
   "execution_count": 16,
   "metadata": {},
   "outputs": [
    {
     "name": "stdout",
     "output_type": "stream",
     "text": [
      "8873\n",
      "3300\n"
     ]
    }
   ],
   "source": [
    "# 8.1 Isolating Free Apps\n",
    "\n",
    "android_new = []\n",
    "ios_new = []\n",
    "\n",
    "# Google Play Store\n",
    "for app in android_english_apps:\n",
    "    cost = app[7]\n",
    "    if cost == '0':\n",
    "        android_new.append(app)\n",
    "\n",
    "# Apple Play Store\n",
    "for app in ios_english_apps:\n",
    "    cost = app[4]\n",
    "    if cost == '0.0':\n",
    "        ios_new.append(app)\n",
    "\n",
    "print(len(android_new))\n",
    "print(len(ios_new))"
   ]
  },
  {
   "cell_type": "code",
   "execution_count": 17,
   "metadata": {},
   "outputs": [
    {
     "name": "stdout",
     "output_type": "stream",
     "text": [
      "['Photo Editor & Candy Camera & Grid & ScrapBook', 'ART_AND_DESIGN', '4.1', '159', '19M', '10,000+', 'Free', '0', 'Everyone', 'Art & Design', 'January 7, 2018', '1.0.0', '4.0.3 and up']\n",
      "\n",
      "\n",
      "['U Launcher Lite – FREE Live Cool Themes, Hide Apps', 'ART_AND_DESIGN', '4.7', '87510', '8.7M', '5,000,000+', 'Free', '0', 'Everyone', 'Art & Design', 'August 1, 2018', '1.2.4', '4.0.3 and up']\n",
      "\n",
      "\n",
      "['Sketch - Draw & Paint', 'ART_AND_DESIGN', '4.5', '215644', '25M', '50,000,000+', 'Free', '0', 'Teen', 'Art & Design', 'June 8, 2018', 'Varies with device', '4.2 and up']\n",
      "\n",
      "\n",
      "Number of rows: 8873\n",
      "Number of columns: 13\n",
      "\n",
      "\n",
      "['284882215', 'Facebook', '389879808', 'USD', '0.0', '2974676', '212', '3.5', '3.5', '95.0', '4+', 'Social Networking', '37', '1', '29', '1']\n",
      "\n",
      "\n",
      "['389801252', 'Instagram', '113954816', 'USD', '0.0', '2161558', '1289', '4.5', '4.0', '10.23', '12+', 'Photo & Video', '37', '0', '29', '1']\n",
      "\n",
      "\n",
      "['529479190', 'Clash of Clans', '116476928', 'USD', '0.0', '2130805', '579', '4.5', '4.5', '9.24.12', '9+', 'Games', '38', '5', '18', '1']\n",
      "\n",
      "\n",
      "Number of rows: 3300\n",
      "Number of columns: 16\n"
     ]
    }
   ],
   "source": [
    "# 8.2 Explore the free apps\n",
    "\n",
    "explore_data(android_new, 0, 3, True)\n",
    "print('\\n')\n",
    "explore_data(ios_new, 0, 3, True)"
   ]
  },
  {
   "cell_type": "markdown",
   "metadata": {},
   "source": [
    "As we mentioned in the introduction, our aim is to determine the kinds of apps that are likely to attract more users because our revenue is highly influenced by the number of people using our apps.\n",
    "\n",
    "To minimize risks and overhead, our validation strategy for an app idea is comprised of three steps:\n",
    "\n",
    "Build a minimal Android version of the app, and add it to Google Play.\n",
    "If the app has a good response from users, we develop it further.\n",
    "If the app is profitable after six months, we build an iOS version of the app and add it to the App Store.\n",
    "Because our end goal is to add the app on both Google Play and the App Store, we need to find app profiles that are successful on both markets. For instance, a profile that works well for both markets might be a productivity app that makes use of gamification.\n",
    "\n",
    "Let's begin the analysis by getting a sense of what are the most common genres for each market. For this, we'll need to build frequency tables for a few columns in our data sets."
   ]
  },
  {
   "cell_type": "code",
   "execution_count": 18,
   "metadata": {},
   "outputs": [
    {
     "data": {
      "text/html": [
       "<div>\n",
       "<style scoped>\n",
       "    .dataframe tbody tr th:only-of-type {\n",
       "        vertical-align: middle;\n",
       "    }\n",
       "\n",
       "    .dataframe tbody tr th {\n",
       "        vertical-align: top;\n",
       "    }\n",
       "\n",
       "    .dataframe thead th {\n",
       "        text-align: right;\n",
       "    }\n",
       "</style>\n",
       "<table border=\"1\" class=\"dataframe\">\n",
       "  <thead>\n",
       "    <tr style=\"text-align: right;\">\n",
       "      <th></th>\n",
       "      <th>App</th>\n",
       "      <th>Category</th>\n",
       "      <th>Rating</th>\n",
       "      <th>Reviews</th>\n",
       "      <th>Size</th>\n",
       "      <th>Installs</th>\n",
       "      <th>Type</th>\n",
       "      <th>Price</th>\n",
       "      <th>Content Rating</th>\n",
       "      <th>Genres</th>\n",
       "      <th>Last Updated</th>\n",
       "      <th>Current Ver</th>\n",
       "      <th>Android Ver</th>\n",
       "    </tr>\n",
       "  </thead>\n",
       "  <tbody>\n",
       "    <tr>\n",
       "      <th>0</th>\n",
       "      <td>Photo Editor &amp; Candy Camera &amp; Grid &amp; ScrapBook</td>\n",
       "      <td>ART_AND_DESIGN</td>\n",
       "      <td>4.1</td>\n",
       "      <td>159</td>\n",
       "      <td>19M</td>\n",
       "      <td>10,000+</td>\n",
       "      <td>Free</td>\n",
       "      <td>0</td>\n",
       "      <td>Everyone</td>\n",
       "      <td>Art &amp; Design</td>\n",
       "      <td>January 7, 2018</td>\n",
       "      <td>1.0.0</td>\n",
       "      <td>4.0.3 and up</td>\n",
       "    </tr>\n",
       "    <tr>\n",
       "      <th>1</th>\n",
       "      <td>U Launcher Lite – FREE Live Cool Themes, Hide ...</td>\n",
       "      <td>ART_AND_DESIGN</td>\n",
       "      <td>4.7</td>\n",
       "      <td>87510</td>\n",
       "      <td>8.7M</td>\n",
       "      <td>5,000,000+</td>\n",
       "      <td>Free</td>\n",
       "      <td>0</td>\n",
       "      <td>Everyone</td>\n",
       "      <td>Art &amp; Design</td>\n",
       "      <td>August 1, 2018</td>\n",
       "      <td>1.2.4</td>\n",
       "      <td>4.0.3 and up</td>\n",
       "    </tr>\n",
       "    <tr>\n",
       "      <th>2</th>\n",
       "      <td>Sketch - Draw &amp; Paint</td>\n",
       "      <td>ART_AND_DESIGN</td>\n",
       "      <td>4.5</td>\n",
       "      <td>215644</td>\n",
       "      <td>25M</td>\n",
       "      <td>50,000,000+</td>\n",
       "      <td>Free</td>\n",
       "      <td>0</td>\n",
       "      <td>Teen</td>\n",
       "      <td>Art &amp; Design</td>\n",
       "      <td>June 8, 2018</td>\n",
       "      <td>Varies with device</td>\n",
       "      <td>4.2 and up</td>\n",
       "    </tr>\n",
       "    <tr>\n",
       "      <th>3</th>\n",
       "      <td>Pixel Draw - Number Art Coloring Book</td>\n",
       "      <td>ART_AND_DESIGN</td>\n",
       "      <td>4.3</td>\n",
       "      <td>967</td>\n",
       "      <td>2.8M</td>\n",
       "      <td>100,000+</td>\n",
       "      <td>Free</td>\n",
       "      <td>0</td>\n",
       "      <td>Everyone</td>\n",
       "      <td>Art &amp; Design;Creativity</td>\n",
       "      <td>June 20, 2018</td>\n",
       "      <td>1.1</td>\n",
       "      <td>4.4 and up</td>\n",
       "    </tr>\n",
       "    <tr>\n",
       "      <th>4</th>\n",
       "      <td>Paper flowers instructions</td>\n",
       "      <td>ART_AND_DESIGN</td>\n",
       "      <td>4.4</td>\n",
       "      <td>167</td>\n",
       "      <td>5.6M</td>\n",
       "      <td>50,000+</td>\n",
       "      <td>Free</td>\n",
       "      <td>0</td>\n",
       "      <td>Everyone</td>\n",
       "      <td>Art &amp; Design</td>\n",
       "      <td>March 26, 2017</td>\n",
       "      <td>1.0</td>\n",
       "      <td>2.3 and up</td>\n",
       "    </tr>\n",
       "  </tbody>\n",
       "</table>\n",
       "</div>"
      ],
      "text/plain": [
       "                                                 App        Category Rating  \\\n",
       "0     Photo Editor & Candy Camera & Grid & ScrapBook  ART_AND_DESIGN    4.1   \n",
       "1  U Launcher Lite – FREE Live Cool Themes, Hide ...  ART_AND_DESIGN    4.7   \n",
       "2                              Sketch - Draw & Paint  ART_AND_DESIGN    4.5   \n",
       "3              Pixel Draw - Number Art Coloring Book  ART_AND_DESIGN    4.3   \n",
       "4                         Paper flowers instructions  ART_AND_DESIGN    4.4   \n",
       "\n",
       "  Reviews  Size     Installs  Type Price Content Rating  \\\n",
       "0     159   19M      10,000+  Free     0       Everyone   \n",
       "1   87510  8.7M   5,000,000+  Free     0       Everyone   \n",
       "2  215644   25M  50,000,000+  Free     0           Teen   \n",
       "3     967  2.8M     100,000+  Free     0       Everyone   \n",
       "4     167  5.6M      50,000+  Free     0       Everyone   \n",
       "\n",
       "                    Genres     Last Updated         Current Ver   Android Ver  \n",
       "0             Art & Design  January 7, 2018               1.0.0  4.0.3 and up  \n",
       "1             Art & Design   August 1, 2018               1.2.4  4.0.3 and up  \n",
       "2             Art & Design     June 8, 2018  Varies with device    4.2 and up  \n",
       "3  Art & Design;Creativity    June 20, 2018                 1.1    4.4 and up  \n",
       "4             Art & Design   March 26, 2017                 1.0    2.3 and up  "
      ]
     },
     "execution_count": 18,
     "metadata": {},
     "output_type": "execute_result"
    }
   ],
   "source": [
    "# 10.1 Most common apps by genre\n",
    "import pandas as pd\n",
    "\n",
    "# For Google Play\n",
    "\n",
    "android_new = pd.DataFrame(columns=android_header,data=android_new)\n",
    "android_new.head()\n"
   ]
  },
  {
   "cell_type": "code",
   "execution_count": 19,
   "metadata": {},
   "outputs": [
    {
     "data": {
      "text/html": [
       "<div>\n",
       "<style scoped>\n",
       "    .dataframe tbody tr th:only-of-type {\n",
       "        vertical-align: middle;\n",
       "    }\n",
       "\n",
       "    .dataframe tbody tr th {\n",
       "        vertical-align: top;\n",
       "    }\n",
       "\n",
       "    .dataframe thead th {\n",
       "        text-align: right;\n",
       "    }\n",
       "</style>\n",
       "<table border=\"1\" class=\"dataframe\">\n",
       "  <thead>\n",
       "    <tr style=\"text-align: right;\">\n",
       "      <th></th>\n",
       "      <th>id</th>\n",
       "      <th>track_name</th>\n",
       "      <th>size_bytes</th>\n",
       "      <th>currency</th>\n",
       "      <th>price</th>\n",
       "      <th>rating_count_tot</th>\n",
       "      <th>rating_count_ver</th>\n",
       "      <th>user_rating</th>\n",
       "      <th>user_rating_ver</th>\n",
       "      <th>ver</th>\n",
       "      <th>cont_rating</th>\n",
       "      <th>prime_genre</th>\n",
       "      <th>sup_devices.num</th>\n",
       "      <th>ipadSc_urls.num</th>\n",
       "      <th>lang.num</th>\n",
       "      <th>vpp_lic</th>\n",
       "    </tr>\n",
       "  </thead>\n",
       "  <tbody>\n",
       "    <tr>\n",
       "      <th>0</th>\n",
       "      <td>284882215</td>\n",
       "      <td>Facebook</td>\n",
       "      <td>389879808</td>\n",
       "      <td>USD</td>\n",
       "      <td>0.0</td>\n",
       "      <td>2974676</td>\n",
       "      <td>212</td>\n",
       "      <td>3.5</td>\n",
       "      <td>3.5</td>\n",
       "      <td>95.0</td>\n",
       "      <td>4+</td>\n",
       "      <td>Social Networking</td>\n",
       "      <td>37</td>\n",
       "      <td>1</td>\n",
       "      <td>29</td>\n",
       "      <td>1</td>\n",
       "    </tr>\n",
       "    <tr>\n",
       "      <th>1</th>\n",
       "      <td>389801252</td>\n",
       "      <td>Instagram</td>\n",
       "      <td>113954816</td>\n",
       "      <td>USD</td>\n",
       "      <td>0.0</td>\n",
       "      <td>2161558</td>\n",
       "      <td>1289</td>\n",
       "      <td>4.5</td>\n",
       "      <td>4.0</td>\n",
       "      <td>10.23</td>\n",
       "      <td>12+</td>\n",
       "      <td>Photo &amp; Video</td>\n",
       "      <td>37</td>\n",
       "      <td>0</td>\n",
       "      <td>29</td>\n",
       "      <td>1</td>\n",
       "    </tr>\n",
       "    <tr>\n",
       "      <th>2</th>\n",
       "      <td>529479190</td>\n",
       "      <td>Clash of Clans</td>\n",
       "      <td>116476928</td>\n",
       "      <td>USD</td>\n",
       "      <td>0.0</td>\n",
       "      <td>2130805</td>\n",
       "      <td>579</td>\n",
       "      <td>4.5</td>\n",
       "      <td>4.5</td>\n",
       "      <td>9.24.12</td>\n",
       "      <td>9+</td>\n",
       "      <td>Games</td>\n",
       "      <td>38</td>\n",
       "      <td>5</td>\n",
       "      <td>18</td>\n",
       "      <td>1</td>\n",
       "    </tr>\n",
       "    <tr>\n",
       "      <th>3</th>\n",
       "      <td>420009108</td>\n",
       "      <td>Temple Run</td>\n",
       "      <td>65921024</td>\n",
       "      <td>USD</td>\n",
       "      <td>0.0</td>\n",
       "      <td>1724546</td>\n",
       "      <td>3842</td>\n",
       "      <td>4.5</td>\n",
       "      <td>4.0</td>\n",
       "      <td>1.6.2</td>\n",
       "      <td>9+</td>\n",
       "      <td>Games</td>\n",
       "      <td>40</td>\n",
       "      <td>5</td>\n",
       "      <td>1</td>\n",
       "      <td>1</td>\n",
       "    </tr>\n",
       "    <tr>\n",
       "      <th>4</th>\n",
       "      <td>284035177</td>\n",
       "      <td>Pandora - Music &amp; Radio</td>\n",
       "      <td>130242560</td>\n",
       "      <td>USD</td>\n",
       "      <td>0.0</td>\n",
       "      <td>1126879</td>\n",
       "      <td>3594</td>\n",
       "      <td>4.0</td>\n",
       "      <td>4.5</td>\n",
       "      <td>8.4.1</td>\n",
       "      <td>12+</td>\n",
       "      <td>Music</td>\n",
       "      <td>37</td>\n",
       "      <td>4</td>\n",
       "      <td>1</td>\n",
       "      <td>1</td>\n",
       "    </tr>\n",
       "  </tbody>\n",
       "</table>\n",
       "</div>"
      ],
      "text/plain": [
       "          id               track_name size_bytes currency price  \\\n",
       "0  284882215                 Facebook  389879808      USD   0.0   \n",
       "1  389801252                Instagram  113954816      USD   0.0   \n",
       "2  529479190           Clash of Clans  116476928      USD   0.0   \n",
       "3  420009108               Temple Run   65921024      USD   0.0   \n",
       "4  284035177  Pandora - Music & Radio  130242560      USD   0.0   \n",
       "\n",
       "  rating_count_tot rating_count_ver user_rating user_rating_ver      ver  \\\n",
       "0          2974676              212         3.5             3.5     95.0   \n",
       "1          2161558             1289         4.5             4.0    10.23   \n",
       "2          2130805              579         4.5             4.5  9.24.12   \n",
       "3          1724546             3842         4.5             4.0    1.6.2   \n",
       "4          1126879             3594         4.0             4.5    8.4.1   \n",
       "\n",
       "  cont_rating        prime_genre sup_devices.num ipadSc_urls.num lang.num  \\\n",
       "0          4+  Social Networking              37               1       29   \n",
       "1         12+      Photo & Video              37               0       29   \n",
       "2          9+              Games              38               5       18   \n",
       "3          9+              Games              40               5        1   \n",
       "4         12+              Music              37               4        1   \n",
       "\n",
       "  vpp_lic  \n",
       "0       1  \n",
       "1       1  \n",
       "2       1  \n",
       "3       1  \n",
       "4       1  "
      ]
     },
     "execution_count": 19,
     "metadata": {},
     "output_type": "execute_result"
    }
   ],
   "source": [
    "# For App Store\n",
    "ios_new = pd.DataFrame(columns = ios_header, data = ios_new)\n",
    "ios_new.head()"
   ]
  },
  {
   "cell_type": "code",
   "execution_count": 20,
   "metadata": {},
   "outputs": [
    {
     "data": {
      "text/plain": [
       "Games                57.484848\n",
       "Entertainment         7.969697\n",
       "Photo & Video         4.878788\n",
       "Education             3.575758\n",
       "Social Networking     3.393939\n",
       "Utilities             2.696970\n",
       "Shopping              2.575758\n",
       "Sports                2.121212\n",
       "Health & Fitness      2.060606\n",
       "Music                 2.030303\n",
       "Productivity          1.757576\n",
       "Lifestyle             1.696970\n",
       "News                  1.363636\n",
       "Travel                1.181818\n",
       "Finance               1.181818\n",
       "Weather               0.878788\n",
       "Food & Drink          0.878788\n",
       "Book                  0.575758\n",
       "Business              0.515152\n",
       "Reference             0.515152\n",
       "Navigation            0.272727\n",
       "Medical               0.212121\n",
       "Catalogs              0.181818\n",
       "Name: prime_genre, dtype: float64"
      ]
     },
     "execution_count": 20,
     "metadata": {},
     "output_type": "execute_result"
    }
   ],
   "source": [
    "# Aggregate based on the column genre for ios\n",
    "ios_agg = ios_new['prime_genre'].value_counts(normalize= True)*100\n",
    "ios_agg"
   ]
  },
  {
   "cell_type": "code",
   "execution_count": 21,
   "metadata": {},
   "outputs": [
    {
     "data": {
      "text/plain": [
       "FAMILY                 18.956385\n",
       "GAME                    9.703595\n",
       "TOOLS                   8.441339\n",
       "BUSINESS                4.598219\n",
       "LIFESTYLE               3.933281\n",
       "PRODUCTIVITY            3.899470\n",
       "FINANCE                 3.685338\n",
       "MEDICAL                 3.527556\n",
       "SPORTS                  3.392314\n",
       "PERSONALIZATION         3.324693\n",
       "COMMUNICATION           3.234532\n",
       "HEALTH_AND_FITNESS      3.076750\n",
       "PHOTOGRAPHY             2.952778\n",
       "NEWS_AND_MAGAZINES      2.817536\n",
       "SOCIAL                  2.648484\n",
       "TRAVEL_AND_LOCAL        2.332920\n",
       "SHOPPING                2.231489\n",
       "BOOKS_AND_REFERENCE     2.175138\n",
       "DATING                  1.859574\n",
       "VIDEO_PLAYERS           1.791953\n",
       "MAPS_AND_NAVIGATION     1.397498\n",
       "FOOD_AND_DRINK          1.228446\n",
       "EDUCATION               1.172095\n",
       "ENTERTAINMENT           0.946692\n",
       "LIBRARIES_AND_DEMO      0.935422\n",
       "AUTO_AND_VEHICLES       0.924152\n",
       "HOUSE_AND_HOME          0.811450\n",
       "WEATHER                 0.800180\n",
       "EVENTS                  0.710019\n",
       "PARENTING               0.653668\n",
       "ART_AND_DESIGN          0.642398\n",
       "BEAUTY                  0.597318\n",
       "COMICS                  0.597318\n",
       "Name: Category, dtype: float64"
      ]
     },
     "execution_count": 21,
     "metadata": {},
     "output_type": "execute_result"
    }
   ],
   "source": [
    "# Aggregate based on the column Category for android\n",
    "android_agg = android_new['Category'].value_counts(normalize=True)*100\n",
    "android_agg"
   ]
  },
  {
   "cell_type": "code",
   "execution_count": 22,
   "metadata": {},
   "outputs": [
    {
     "data": {
      "text/plain": [
       "Tools                                    8.430069\n",
       "Entertainment                            6.063338\n",
       "Education                                5.375859\n",
       "Business                                 4.598219\n",
       "Lifestyle                                3.922011\n",
       "Productivity                             3.899470\n",
       "Finance                                  3.685338\n",
       "Medical                                  3.527556\n",
       "Sports                                   3.459935\n",
       "Personalization                          3.324693\n",
       "Communication                            3.234532\n",
       "Action                                   3.088020\n",
       "Health & Fitness                         3.076750\n",
       "Photography                              2.952778\n",
       "News & Magazines                         2.817536\n",
       "Social                                   2.648484\n",
       "Travel & Local                           2.321650\n",
       "Shopping                                 2.231489\n",
       "Books & Reference                        2.175138\n",
       "Simulation                               2.062437\n",
       "Dating                                   1.859574\n",
       "Arcade                                   1.837034\n",
       "Video Players & Editors                  1.769413\n",
       "Casual                                   1.758143\n",
       "Maps & Navigation                        1.397498\n",
       "Food & Drink                             1.228446\n",
       "Puzzle                                   1.127015\n",
       "Racing                                   0.991773\n",
       "Libraries & Demo                         0.935422\n",
       "Role Playing                             0.935422\n",
       "                                           ...   \n",
       "Sports;Action & Adventure                0.022540\n",
       "Puzzle;Creativity                        0.022540\n",
       "Video Players & Editors;Music & Video    0.022540\n",
       "Music & Audio;Music & Video              0.011270\n",
       "Simulation;Education                     0.011270\n",
       "Books & Reference;Education              0.011270\n",
       "Art & Design;Pretend Play                0.011270\n",
       "Adventure;Education                      0.011270\n",
       "Health & Fitness;Education               0.011270\n",
       "Lifestyle;Education                      0.011270\n",
       "Communication;Creativity                 0.011270\n",
       "Tools;Education                          0.011270\n",
       "Puzzle;Education                         0.011270\n",
       "Strategy;Education                       0.011270\n",
       "Role Playing;Brain Games                 0.011270\n",
       "Video Players & Editors;Creativity       0.011270\n",
       "Parenting;Brain Games                    0.011270\n",
       "Strategy;Action & Adventure              0.011270\n",
       "Card;Action & Adventure                  0.011270\n",
       "Lifestyle;Pretend Play                   0.011270\n",
       "Health & Fitness;Action & Adventure      0.011270\n",
       "Arcade;Pretend Play                      0.011270\n",
       "Travel & Local;Action & Adventure        0.011270\n",
       "Casual;Music & Video                     0.011270\n",
       "Racing;Pretend Play                      0.011270\n",
       "Entertainment;Education                  0.011270\n",
       "Art & Design;Action & Adventure          0.011270\n",
       "Strategy;Creativity                      0.011270\n",
       "Trivia;Education                         0.011270\n",
       "Comics;Creativity                        0.011270\n",
       "Name: Genres, Length: 114, dtype: float64"
      ]
     },
     "execution_count": 22,
     "metadata": {},
     "output_type": "execute_result"
    }
   ],
   "source": [
    "# Aggregate based on the column Genre for android\n",
    "android_new['Genres'].value_counts(normalize=True)*100"
   ]
  },
  {
   "cell_type": "code",
   "execution_count": 23,
   "metadata": {},
   "outputs": [
    {
     "data": {
      "text/plain": [
       "Genres\n",
       "Action                                  3465886940.00\n",
       "Action;Action & Adventure                 53000000.00\n",
       "Adventure                                245417120.00\n",
       "Adventure;Action & Adventure             106000000.00\n",
       "Adventure;Education                       10000000.00\n",
       "Arcade                                  3753681940.00\n",
       "Arcade;Action & Adventure                 35100001.00\n",
       "Arcade;Pretend Play                        1000000.00\n",
       "Art & Design                             112511100.00\n",
       "Art & Design;Action & Adventure             100000.00\n",
       "Art & Design;Creativity                    1710000.00\n",
       "Art & Design;Pretend Play                   500000.00\n",
       "Auto & Vehicles                           53080061.00\n",
       "Beauty                                    27197050.00\n",
       "Board                                    161813110.00\n",
       "Board;Action & Adventure                   6000000.00\n",
       "Board;Brain Games                          2850000.00\n",
       "Books & Reference                       1665936260.00\n",
       "Books & Reference;Education                   1000.00\n",
       "Business                                 696952090.00\n",
       "Card                                     152618500.00\n",
       "Card;Action & Adventure                   10000000.00\n",
       "Casino                                   130260600.00\n",
       "Casual                                  3052798570.00\n",
       "Casual;Action & Adventure                155000000.00\n",
       "Casual;Brain Games                        17111000.00\n",
       "Casual;Creativity                         32000000.00\n",
       "Casual;Education                           2000000.00\n",
       "Casual;Music & Video                      10000000.00\n",
       "Casual;Pretend Play                      146100000.00\n",
       "                                             ...     \n",
       "Racing                                  1400136820.00\n",
       "Racing;Action & Adventure                132250000.00\n",
       "Racing;Pretend Play                        1000000.00\n",
       "Role Playing                             329148570.00\n",
       "Role Playing;Action & Adventure           21000000.00\n",
       "Role Playing;Brain Games                  10000000.00\n",
       "Role Playing;Pretend Play                 21100000.00\n",
       "Shopping                                1400328585.00\n",
       "Simulation                               629262620.00\n",
       "Simulation;Action & Adventure             34000000.00\n",
       "Simulation;Education                           500.00\n",
       "Simulation;Pretend Play                    1100000.00\n",
       "Social                                  5486861902.00\n",
       "Sports                                  1411230683.00\n",
       "Sports;Action & Adventure                 10100000.00\n",
       "Strategy                                 907192105.00\n",
       "Strategy;Action & Adventure                1000000.00\n",
       "Strategy;Creativity                        1000000.00\n",
       "Strategy;Education                          500000.00\n",
       "Tools                                   8091029474.00\n",
       "Tools;Education                           10000000.00\n",
       "Travel & Local                          2894604086.00\n",
       "Travel & Local;Action & Adventure           100000.00\n",
       "Trivia                                   128606370.00\n",
       "Trivia;Education                               100.00\n",
       "Video Players & Editors                 3916731720.00\n",
       "Video Players & Editors;Creativity         5000000.00\n",
       "Video Players & Editors;Music & Video     15000000.00\n",
       "Weather                                  360288520.00\n",
       "Word                                     209172550.00\n",
       "Name: Installs, Length: 114, dtype: float64"
      ]
     },
     "execution_count": 23,
     "metadata": {},
     "output_type": "execute_result"
    }
   ],
   "source": [
    "# Number of user ratings per app Genres for android\n",
    "pd.options.display.float_format = '{:.2f}'.format\n",
    "android_new['Installs'] = android_new['Installs'].str[:-1]\n",
    "\n",
    "android_new['Installs'] = android_new['Installs'].str.replace(',', '')\n",
    "#android_new.head()\n",
    "android_new['Installs'] = android_new['Installs'].apply(pd.to_numeric)\n",
    "android_new.groupby('Genres')['Installs'].sum()"
   ]
  },
  {
   "cell_type": "code",
   "execution_count": 24,
   "metadata": {},
   "outputs": [
    {
     "data": {
      "text/plain": [
       "Category\n",
       "ART_AND_DESIGN          113221100.00\n",
       "AUTO_AND_VEHICLES        53080061.00\n",
       "BEAUTY                   27197050.00\n",
       "BOOKS_AND_REFERENCE    1665936260.00\n",
       "BUSINESS                696952090.00\n",
       "COMICS                   43921150.00\n",
       "COMMUNICATION         11036906201.00\n",
       "DATING                  140914757.00\n",
       "EDUCATION               189850000.00\n",
       "ENTERTAINMENT           988460000.00\n",
       "EVENTS                   15973160.00\n",
       "FAMILY                 6193166691.00\n",
       "FINANCE                 445163132.00\n",
       "FOOD_AND_DRINK          211728751.00\n",
       "GAME                  13386814450.00\n",
       "HEALTH_AND_FITNESS     1143548402.00\n",
       "HOUSE_AND_HOME           97102461.00\n",
       "LIBRARIES_AND_DEMO       52995810.00\n",
       "LIFESTYLE               502544429.00\n",
       "MAPS_AND_NAVIGATION     497160790.00\n",
       "MEDICAL                  37732344.00\n",
       "NEWS_AND_MAGAZINES     2368207260.00\n",
       "PARENTING                31471010.00\n",
       "PERSONALIZATION        1529235988.00\n",
       "PHOTOGRAPHY            4656268915.00\n",
       "PRODUCTIVITY           5791679314.00\n",
       "SHOPPING               1400328585.00\n",
       "SOCIAL                 5486861902.00\n",
       "SPORTS                 1095230683.00\n",
       "TOOLS                  8101029474.00\n",
       "TRAVEL_AND_LOCAL       2894704086.00\n",
       "VIDEO_PLAYERS          3931731720.00\n",
       "WEATHER                 360288520.00\n",
       "Name: Installs, dtype: float64"
      ]
     },
     "execution_count": 24,
     "metadata": {},
     "output_type": "execute_result"
    }
   ],
   "source": [
    "android_new.groupby('Category')['Installs'].sum()"
   ]
  }
 ],
 "metadata": {
  "kernelspec": {
   "display_name": "Python 3",
   "language": "python",
   "name": "python3"
  },
  "language_info": {
   "codemirror_mode": {
    "name": "ipython",
    "version": 3
   },
   "file_extension": ".py",
   "mimetype": "text/x-python",
   "name": "python",
   "nbconvert_exporter": "python",
   "pygments_lexer": "ipython3",
   "version": "3.7.3"
  }
 },
 "nbformat": 4,
 "nbformat_minor": 2
}
